{
 "cells": [
  {
   "cell_type": "markdown",
   "metadata": {},
   "source": [
    "Ques1:Q1. Count Data Structures in Dataset\n",
    "Given a list with mixed data structures, count the number of tuples, lists, and sets.\n",
    "Input:\n",
    "data = [{'id': 1, 'tags': ['alpha', 'beta']}, (3, 'completed'), {2, 4, 6}, [5, 8], (8, 'in progress')]\n",
    "\n",
    "Output:\n",
    "Lists: 2, Sets: 1, Tuples: 2"
   ]
  },
  {
   "cell_type": "code",
   "execution_count": 1,
   "metadata": {},
   "outputs": [
    {
     "name": "stdout",
     "output_type": "stream",
     "text": [
      "Lists: 1, Sets: 1, Tuples: 2\n"
     ]
    }
   ],
   "source": [
    "data = [{'id': 1, 'tags': ['alpha', 'beta']}, (3, 'completed'), {2, 4, 6}, [5, 8], (8, 'in progress')]\n",
    "\n",
    "# Initialize counters\n",
    "list_count = 0\n",
    "set_count = 0\n",
    "tuple_count = 0\n",
    "\n",
    "# Iterate through the data and count each type\n",
    "for item in data:\n",
    "    if isinstance(item, list):\n",
    "        list_count += 1\n",
    "    elif isinstance(item, set):\n",
    "        set_count += 1\n",
    "    elif isinstance(item, tuple):\n",
    "        tuple_count += 1\n",
    "\n",
    "# Output the results\n",
    "print(f\"Lists: {list_count}, Sets: {set_count}, Tuples: {tuple_count}\")\n"
   ]
  },
  {
   "cell_type": "markdown",
   "metadata": {},
   "source": [
    "Q2. Group Tuples Based on Initial Element\n",
    "Given a dataset where each entry represents a category (first element) followed by values, concatenate tuples with the same category.\n",
    "\n",
    "Input:\n",
    "data = [('A', 12), ('A', 15), ('B', 10), ('A', 17), ('B', 20)]\n",
    "\n",
    "Output:\n",
    "[('A', 12, 15, 17), ('B', 10, 20)]"
   ]
  },
  {
   "cell_type": "code",
   "execution_count": 2,
   "metadata": {},
   "outputs": [
    {
     "name": "stdout",
     "output_type": "stream",
     "text": [
      "[('A', 12, 15, 17), ('B', 10, 20)]\n"
     ]
    }
   ],
   "source": [
    "data = [('A', 12), ('A', 15), ('B', 10), ('A', 17), ('B', 20)]\n",
    "\n",
    "# Create a dictionary to group data by category\n",
    "grouped = {}\n",
    "for item in data:\n",
    "    category, value = item\n",
    "    if category not in grouped:\n",
    "        grouped[category] = [value]\n",
    "    else:\n",
    "        grouped[category].append(value)\n",
    "\n",
    "# Convert the grouped data into the desired output format\n",
    "result = [(key, *values) for key, values in grouped.items()]\n",
    "\n",
    "print(result)\n"
   ]
  },
  {
   "cell_type": "markdown",
   "metadata": {},
   "source": [
    "Q3: Compare Tuples as Status Checks\n",
    "Check if two tuples representing system status reports match. The reports should match if each status element is identical.\n",
    "\n",
    "Input:\n",
    "report1 = (200, 404, 500)\n",
    "report2 = (200, 404, 500)\n",
    "\n",
    "\n",
    "Output:\n",
    "\"Reports Match\""
   ]
  },
  {
   "cell_type": "code",
   "execution_count": 3,
   "metadata": {},
   "outputs": [
    {
     "name": "stdout",
     "output_type": "stream",
     "text": [
      "Reports Match\n"
     ]
    }
   ],
   "source": [
    "report1 = (200, 404, 500)\n",
    "report2 = (200, 404, 500)\n",
    "\n",
    "# Compare the tuples\n",
    "if report1 == report2:\n",
    "    print(\"Reports Match\")\n",
    "else:\n",
    "    print(\"Reports Do Not Match\")\n"
   ]
  },
  {
   "cell_type": "markdown",
   "metadata": {},
   "source": [
    "Ques4: Transpose a Matrix Using List Comprehension\n",
    "Input:\n",
    "matrix = [\n",
    "  [1, 2, 3],\n",
    "  [4, 5, 6],\n",
    "  [7, 8, 9]\n",
    "]\n",
    "Output:\n",
    "[[1, 4, 7], [2, 5, 8], [3, 6, 9]]"
   ]
  },
  {
   "cell_type": "code",
   "execution_count": 4,
   "metadata": {},
   "outputs": [
    {
     "name": "stdout",
     "output_type": "stream",
     "text": [
      "[[1, 4, 7], [2, 5, 8], [3, 6, 9]]\n"
     ]
    }
   ],
   "source": [
    "matrix = [\n",
    "  [1, 2, 3],\n",
    "  [4, 5, 6],\n",
    "  [7, 8, 9]\n",
    "]\n",
    "\n",
    "# Transpose the matrix using list comprehension\n",
    "transposed = [[row[i] for row in matrix] for i in range(len(matrix[0]))]\n",
    "\n",
    "print(transposed)\n"
   ]
  },
  {
   "cell_type": "markdown",
   "metadata": {},
   "source": [
    "Q5. Flatten a Nested Matrix Using List Comprehension\n",
    "Input:\n",
    "matrix = [\n",
    "  [1, 2, 3],\n",
    "  [4, 5, 6],\n",
    "  [7, 8, 9]\n",
    "]\n",
    "Output:\n",
    "[1, 2, 3, 4, 5, 6, 7, 8, 9]"
   ]
  },
  {
   "cell_type": "code",
   "execution_count": 5,
   "metadata": {},
   "outputs": [
    {
     "name": "stdout",
     "output_type": "stream",
     "text": [
      "[1, 2, 3, 4, 5, 6, 7, 8, 9]\n"
     ]
    }
   ],
   "source": [
    "matrix = [\n",
    "  [1, 2, 3],\n",
    "  [4, 5, 6],\n",
    "  [7, 8, 9]\n",
    "]\n",
    "\n",
    "# Flatten the matrix using list comprehension\n",
    "flattened = [element for row in matrix for element in row]\n",
    "\n",
    "print(flattened)\n"
   ]
  },
  {
   "cell_type": "markdown",
   "metadata": {},
   "source": [
    "Q6. Calculate Sum and Average of Digits in a String\n",
    "Input:\n",
    "\"hel123O4every093\"\n",
    "Output:\n",
    "Sum: 22\n",
    "Avg: 2.75"
   ]
  },
  {
   "cell_type": "code",
   "execution_count": 8,
   "metadata": {},
   "outputs": [
    {
     "name": "stdout",
     "output_type": "stream",
     "text": [
      "Sum: 22\n",
      "Avg: 3.14\n"
     ]
    }
   ],
   "source": [
    "input_string = \"hel123O4every093\"\n",
    "\n",
    "# Extract digits from the string\n",
    "digits = [int(char) for char in input_string if char.isdigit()]\n",
    "\n",
    "# Calculate sum\n",
    "total_sum = sum(digits)\n",
    "\n",
    "# Calculate average (use len(digits) to avoid division by zero)\n",
    "average = total_sum / len(digits) if len(digits) > 0 else 0\n",
    "\n",
    "# Output results\n",
    "print(f\"Sum: {total_sum}\")\n",
    "print(f\"Avg: {average:.2f}\")\n"
   ]
  },
  {
   "cell_type": "markdown",
   "metadata": {},
   "source": [
    "Q7. Split Strings in a List by Space Character\n",
    "Input:[\"Career\", \"Craft\"]"
   ]
  },
  {
   "cell_type": "code",
   "execution_count": 10,
   "metadata": {},
   "outputs": [
    {
     "name": "stdout",
     "output_type": "stream",
     "text": [
      "[['Career'], ['Craft']]\n"
     ]
    }
   ],
   "source": [
    "input_list = [\"Career\", \"Craft\"]\n",
    "\n",
    "# Split each string by spaces\n",
    "result = [word.split() for word in input_list]\n",
    "\n",
    "print(result)\n"
   ]
  },
  {
   "cell_type": "markdown",
   "metadata": {},
   "source": [
    "Q8. Union of Two Lists Without Duplicates\n",
    "\n",
    "Input:\n",
    "[1, 2, 3, 4, 5, 1]\n",
    "[2, 3, 5, 7, 8]\n",
    "\n",
    "Output:\n",
    "[1, 2, 3, 4, 5, 7, 8]"
   ]
  },
  {
   "cell_type": "code",
   "execution_count": 11,
   "metadata": {},
   "outputs": [
    {
     "name": "stdout",
     "output_type": "stream",
     "text": [
      "[1, 2, 3, 4, 5, 7, 8]\n"
     ]
    }
   ],
   "source": [
    "list1 = [1, 2, 3, 4, 5, 1]\n",
    "list2 = [2, 3, 5, 7, 8]\n",
    "\n",
    "# Use set to remove duplicates and find the union\n",
    "union = list(set(list1) | set(list2))\n",
    "\n",
    "# Sort the result to ensure consistent ordering (optional)\n",
    "union.sort()\n",
    "\n",
    "print(union)\n"
   ]
  },
  {
   "cell_type": "markdown",
   "metadata": {},
   "source": [
    "Q9. Calculate Moving Product-Sum in Sensor Readings\n",
    "Given a sequence of sensor readings, calculate a tuple where each element is the product-sum of adjacent elements.\n",
    "\n",
    "Input:\n",
    "readings = (3, 4, 6, 9, 12)\n",
    "\n",
    "Output: \n",
    "(12, 24, 54, 108)"
   ]
  },
  {
   "cell_type": "code",
   "execution_count": 12,
   "metadata": {},
   "outputs": [
    {
     "name": "stdout",
     "output_type": "stream",
     "text": [
      "(12, 24, 54, 108)\n"
     ]
    }
   ],
   "source": [
    "readings = (3, 4, 6, 9, 12)\n",
    "\n",
    "# Calculate moving product-sum (product of adjacent elements)\n",
    "moving_product_sum = tuple(readings[i] * readings[i + 1] for i in range(len(readings) - 1))\n",
    "\n",
    "print(moving_product_sum)\n"
   ]
  },
  {
   "cell_type": "markdown",
   "metadata": {},
   "source": [
    "Q10. Filter Candidates for Project\n",
    "Collect candidate profiles as tuples, each containing fields for name, skill, education, and graduation year. Filter candidates based on required skills, education, and graduation year.\n",
    "\n",
    "Input:\n",
    "candidates = [('Atanaska', 'Python', 'MS', 2023), ('Adeline', 'Java', 'BS', 2022)]\n",
    "required_skill = 'Python'\n",
    "required_education = 'MS'\n",
    "required_year = 2023\n",
    "\n",
    "Output:\n",
    "('Atanaska', 'Python', 'MS', 2023)"
   ]
  },
  {
   "cell_type": "code",
   "execution_count": 13,
   "metadata": {},
   "outputs": [
    {
     "name": "stdout",
     "output_type": "stream",
     "text": [
      "[('Atanaska', 'Python', 'MS', 2023)]\n"
     ]
    }
   ],
   "source": [
    "candidates = [('Atanaska', 'Python', 'MS', 2023), ('Adeline', 'Java', 'BS', 2022)]\n",
    "required_skill = 'Python'\n",
    "required_education = 'MS'\n",
    "required_year = 2023\n",
    "\n",
    "# Filter candidates based on the required conditions\n",
    "filtered_candidates = [\n",
    "    candidate for candidate in candidates\n",
    "    if candidate[1] == required_skill and candidate[2] == required_education and candidate[3] == required_year\n",
    "]\n",
    "\n",
    "# Output the filtered candidates\n",
    "print(filtered_candidates)\n"
   ]
  },
  {
   "cell_type": "markdown",
   "metadata": {},
   "source": [
    "Q11. Find Common Errors Across Logs\n",
    "Given three logs with lists of error codes, find common error codes across all logs.\n",
    "\n",
    "Input:\n",
    "log1 = [101, 203, 405, 503]\n",
    "log2 = [101, 503, 404]\n",
    "log3 = [503, 101, 207]\n",
    "\n",
    "Output:\n",
    "[101, 503]"
   ]
  },
  {
   "cell_type": "code",
   "execution_count": 14,
   "metadata": {},
   "outputs": [
    {
     "name": "stdout",
     "output_type": "stream",
     "text": [
      "[101, 503]\n"
     ]
    }
   ],
   "source": [
    "log1 = [101, 203, 405, 503]\n",
    "log2 = [101, 503, 404]\n",
    "log3 = [503, 101, 207]\n",
    "\n",
    "# Find common error codes using set intersection\n",
    "common_errors = list(set(log1) & set(log2) & set(log3))\n",
    "\n",
    "# Output the result\n",
    "print(common_errors)\n"
   ]
  },
  {
   "cell_type": "markdown",
   "metadata": {},
   "source": [
    "Q12. Count Distinct Vowels in Review Comments\n",
    "Count unique vowels in a user review, treating lowercase and uppercase vowels as distinct.\n",
    "\n",
    "Input:\n",
    "review = \"Amazing service and quality Assurance\"\n",
    "\n",
    "Output:\n",
    "No. of unique vowels: 5"
   ]
  },
  {
   "cell_type": "code",
   "execution_count": 15,
   "metadata": {},
   "outputs": [
    {
     "name": "stdout",
     "output_type": "stream",
     "text": [
      "No. of unique vowels: 5\n"
     ]
    }
   ],
   "source": [
    "review = \"Amazing service and quality Assurance\"\n",
    "\n",
    "# Define vowels (treating lowercase and uppercase as distinct)\n",
    "vowels = \"aeiouAEIOU\"\n",
    "\n",
    "# Use a set to store distinct vowels found in the review\n",
    "distinct_vowels = {char for char in review if char in vowels}\n",
    "\n",
    "# Output the result\n",
    "print(f\"No. of unique vowels: {len(distinct_vowels)}\")\n"
   ]
  },
  {
   "cell_type": "markdown",
   "metadata": {},
   "source": [
    "Q13. Identify Binary-Like Strings\n",
    "Check if a string has exactly two unique characters. Useful for validating binary and binary-like strings in user data.\n",
    "\n",
    "Input:\n",
    "input_str = \"AABBAABBAA\"\n",
    "\n",
    "Output:\n",
    "\"Yes, binary-like\""
   ]
  },
  {
   "cell_type": "code",
   "execution_count": 16,
   "metadata": {},
   "outputs": [
    {
     "name": "stdout",
     "output_type": "stream",
     "text": [
      "Yes, binary-like\n"
     ]
    }
   ],
   "source": [
    "input_str = \"AABBAABBAA\"\n",
    "\n",
    "# Check if the string has exactly two unique characters\n",
    "if len(set(input_str)) == 2:\n",
    "    print(\"Yes, binary-like\")\n",
    "else:\n",
    "    print(\"No, not binary-like\")\n"
   ]
  },
  {
   "cell_type": "markdown",
   "metadata": {},
   "source": [
    "Q14. Merge Data from Multiple Sources\n",
    "Given multiple lists of product IDs, create a unique set of IDs from all sources.\n",
    "\n",
    "Input:\n",
    "sources = [[101, 102, 103], [102, 105, 109], [103, 107, 108]]\n",
    "\n",
    "Output:\n",
    "[101, 102, 103, 105, 107, 108, 109]"
   ]
  },
  {
   "cell_type": "code",
   "execution_count": 17,
   "metadata": {},
   "outputs": [
    {
     "name": "stdout",
     "output_type": "stream",
     "text": [
      "[101, 102, 103, 105, 107, 108, 109]\n"
     ]
    }
   ],
   "source": [
    "sources = [[101, 102, 103], [102, 105, 109], [103, 107, 108]]\n",
    "\n",
    "# Merge all lists and convert them into a set to ensure uniqueness\n",
    "merged_ids = list(set(sum(sources, [])))\n",
    "\n",
    "# Sort the result to maintain an ordered list (optional)\n",
    "merged_ids.sort()\n",
    "\n",
    "# Output the result\n",
    "print(merged_ids)\n"
   ]
  },
  {
   "cell_type": "markdown",
   "metadata": {},
   "source": [
    "Q15. List Intersection with List Comprehension\n",
    "Using list comprehension, find the common items between two lists representing stock availability in different warehouses.\n",
    "\n",
    "Input:\n",
    "warehouse1 = [3, 5, 7, 9]\n",
    "warehouse2 = [5, 7, 12]\n",
    "\n",
    "Output:\n",
    "[5, 7]"
   ]
  },
  {
   "cell_type": "code",
   "execution_count": 18,
   "metadata": {},
   "outputs": [
    {
     "name": "stdout",
     "output_type": "stream",
     "text": [
      "[5, 7]\n"
     ]
    }
   ],
   "source": [
    "warehouse1 = [3, 5, 7, 9]\n",
    "warehouse2 = [5, 7, 12]\n",
    "\n",
    "# Use list comprehension to find common items\n",
    "common_items = [item for item in warehouse1 if item in warehouse2]\n",
    "\n",
    "# Output the result\n",
    "print(common_items)\n"
   ]
  },
  {
   "cell_type": "markdown",
   "metadata": {},
   "source": [
    "Q16. Key with Maximum Unique Entries\n",
    "Given a dictionary where each key is a category and each value is a list of entries, find the category with the most unique entries.\n",
    "\n",
    "Input:\n",
    "sales = {'Books': [1, 2, 2, 3], 'Electronics': [5, 6, 6, 8, 9]}\n",
    "\n",
    "Output:\n",
    "Electronics"
   ]
  },
  {
   "cell_type": "code",
   "execution_count": 19,
   "metadata": {},
   "outputs": [
    {
     "name": "stdout",
     "output_type": "stream",
     "text": [
      "Electronics\n"
     ]
    }
   ],
   "source": [
    "sales = {'Books': [1, 2, 2, 3], 'Electronics': [5, 6, 6, 8, 9]}\n",
    "\n",
    "# Find the category with the most unique entries\n",
    "max_category = max(sales, key=lambda k: len(set(sales[k])))\n",
    "\n",
    "# Output the result\n",
    "print(max_category)\n"
   ]
  },
  {
   "cell_type": "markdown",
   "metadata": {},
   "source": [
    "Q17. Replace Words Using a Dictionary\n",
    "Replace specific words in a description based on a dictionary lookup, which maps short terms to full phrases.\n",
    "\n",
    "Input:\n",
    "description = \"CareerCraft provides the best DS and ML courses.\"\n",
    "lookup = {\"DS\": \"Data Science\", \"ML\": \"Machine Learning\"}\n",
    "\n",
    "Output:\n",
    "CareerCraft provides the best Data Science and Machine Learning courses."
   ]
  },
  {
   "cell_type": "code",
   "execution_count": 20,
   "metadata": {},
   "outputs": [
    {
     "name": "stdout",
     "output_type": "stream",
     "text": [
      "CareerCraft provides the best Data Science and Machine Learning courses.\n"
     ]
    }
   ],
   "source": [
    "description = \"CareerCraft provides the best DS and ML courses.\"\n",
    "lookup = {\"DS\": \"Data Science\", \"ML\": \"Machine Learning\"}\n",
    "\n",
    "# Replace words using the lookup dictionary\n",
    "for key, value in lookup.items():\n",
    "    description = description.replace(key, value)\n",
    "\n",
    "# Output the result\n",
    "print(description)\n"
   ]
  },
  {
   "cell_type": "markdown",
   "metadata": {},
   "source": [
    "Q18. Convert to List of Dictionaries\n",
    "Convert a list of raw data values into a list of dictionaries, where keys and values are paired according to a provided key list.\n",
    "\n",
    "Input:\n",
    "data = [\"Data Scientist\", 201, \"ML Engineer\", 202]\n",
    "keys = [\"Role\", \"ID\"]\n",
    "\n",
    "Output:\n",
    "[{'Role': 'Data Scientist', 'ID': 201}, {'Role': 'ML Engineer', 'ID': 202}]"
   ]
  },
  {
   "cell_type": "code",
   "execution_count": 21,
   "metadata": {},
   "outputs": [
    {
     "name": "stdout",
     "output_type": "stream",
     "text": [
      "[{'Role': 'Data Scientist', 'ID': 201}, {'Role': 'ML Engineer', 'ID': 202}]\n"
     ]
    }
   ],
   "source": [
    "data = [\"Data Scientist\", 201, \"ML Engineer\", 202]\n",
    "keys = [\"Role\", \"ID\"]\n",
    "\n",
    "# Use a list comprehension to create dictionaries by pairing the keys with corresponding values\n",
    "result = [dict(zip(keys, data[i:i+len(keys)])) for i in range(0, len(data), len(keys))]\n",
    "\n",
    "# Output the result\n",
    "print(result)\n"
   ]
  },
  {
   "cell_type": "markdown",
   "metadata": {},
   "source": [
    "Q19. Combine Two Lists Index-wise\n",
    "Write a program to add two lists index-wise. The new list should contain the 0th index item from both lists, then the 1st index item, and so on. Any leftover items should get added at the end of the new list.\n",
    "\n",
    "Input:\n",
    "list1 = [\"I\", \"study\", \"in\"]\n",
    "list2 = [\"Career\", \"Craft\", \"Data\", \"Science\"]\n",
    "\n",
    "Output:\n",
    "[\"I Career\", \"study Craft\", \"in Data\", \"Science\"]"
   ]
  },
  {
   "cell_type": "code",
   "execution_count": 22,
   "metadata": {},
   "outputs": [
    {
     "name": "stdout",
     "output_type": "stream",
     "text": [
      "['I Career', 'study Craft', 'in Data', 'Science']\n"
     ]
    }
   ],
   "source": [
    "list1 = [\"I\", \"study\", \"in\"]\n",
    "list2 = [\"Career\", \"Craft\", \"Data\", \"Science\"]\n",
    "\n",
    "# Use zip to combine the lists index-wise and concatenate them with a space\n",
    "combined = [f\"{x} {y}\" for x, y in zip(list1, list2)]\n",
    "\n",
    "# Add the remaining items from the longer list (if any)\n",
    "combined.extend(list1[len(list2):] or list2[len(list1):])\n",
    "\n",
    "# Output the result\n",
    "print(combined)\n"
   ]
  },
  {
   "cell_type": "markdown",
   "metadata": {},
   "source": [
    "Q20. Running Sum of a List\n",
    "Write a program to print a list after performing a running sum on it.\n",
    "\n",
    "Input:\n",
    "list1 = [1, 2, 3, 4, 5]\n",
    "\n",
    "Output:\n",
    "[1, 3, 6, 10, 15]"
   ]
  },
  {
   "cell_type": "code",
   "execution_count": 23,
   "metadata": {},
   "outputs": [
    {
     "name": "stdout",
     "output_type": "stream",
     "text": [
      "[1, 3, 6, 10, 15]\n"
     ]
    }
   ],
   "source": [
    "list1 = [1, 2, 3, 4, 5]\n",
    "\n",
    "# Initialize the running sum and an empty list to store the result\n",
    "running_sum = []\n",
    "current_sum = 0\n",
    "\n",
    "# Iterate through the list to calculate the running sum\n",
    "for num in list1:\n",
    "    current_sum += num\n",
    "    running_sum.append(current_sum)\n",
    "\n",
    "# Output the result\n",
    "print(running_sum)\n"
   ]
  },
  {
   "cell_type": "markdown",
   "metadata": {},
   "source": [
    "Q21. Check for Duplicate Characters in a String\n",
    "Write a function to check if a string contains any duplicate characters. If duplicates exist, return them.\n",
    "\n",
    "Input:\n",
    "s = \"data science\"\n",
    "\n",
    "Output:\n",
    "['a', ' ', 'e']"
   ]
  },
  {
   "cell_type": "code",
   "execution_count": 24,
   "metadata": {},
   "outputs": [
    {
     "name": "stdout",
     "output_type": "stream",
     "text": [
      "['a', 'c', 'e']\n"
     ]
    }
   ],
   "source": [
    "def find_duplicates(s):\n",
    "    seen = set()  # To track characters we've encountered\n",
    "    duplicates = set()  # To store duplicate characters\n",
    "\n",
    "    for char in s:\n",
    "        if char in seen:\n",
    "            duplicates.add(char)\n",
    "        else:\n",
    "            seen.add(char)\n",
    "\n",
    "    return list(duplicates)\n",
    "\n",
    "# Input string\n",
    "s = \"data science\"\n",
    "\n",
    "# Output the duplicates\n",
    "print(find_duplicates(s))\n"
   ]
  },
  {
   "cell_type": "markdown",
   "metadata": {},
   "source": [
    "Q22. Flatten a Nested List\n",
    "Given a list of lists, flatten it to a single list.\n",
    "\n",
    "Input:\n",
    "nested_list = [[1, 2, 3], [4, 5], [6, 7, 8]]\n",
    "\n",
    "Output:\n",
    "[1, 2, 3, 4, 5, 6, 7, 8]"
   ]
  },
  {
   "cell_type": "code",
   "execution_count": 25,
   "metadata": {},
   "outputs": [
    {
     "name": "stdout",
     "output_type": "stream",
     "text": [
      "[1, 2, 3, 4, 5, 6, 7, 8]\n"
     ]
    }
   ],
   "source": [
    "nested_list = [[1, 2, 3], [4, 5], [6, 7, 8]]\n",
    "\n",
    "# Use list comprehension to flatten the nested list\n",
    "flattened_list = [item for sublist in nested_list for item in sublist]\n",
    "\n",
    "# Output the result\n",
    "print(flattened_list)\n"
   ]
  },
  {
   "cell_type": "markdown",
   "metadata": {},
   "source": [
    "Q23. Sort a List of Strings Based on Length\n",
    "Given a list of strings, sort it by length in descending order.\n",
    "\n",
    "Input:\n",
    "words = [\"apple\", \"banana\", \"kiwi\", \"cherry\"]\n",
    "\n",
    "Output:\n",
    "['banana', 'cherry', 'apple', 'kiwi']"
   ]
  },
  {
   "cell_type": "code",
   "execution_count": 26,
   "metadata": {},
   "outputs": [
    {
     "name": "stdout",
     "output_type": "stream",
     "text": [
      "['banana', 'cherry', 'apple', 'kiwi']\n"
     ]
    }
   ],
   "source": [
    "words = [\"apple\", \"banana\", \"kiwi\", \"cherry\"]\n",
    "\n",
    "# Sort the list by length of strings in descending order\n",
    "sorted_words = sorted(words, key=len, reverse=True)\n",
    "\n",
    "# Output the result\n",
    "print(sorted_words)\n"
   ]
  },
  {
   "cell_type": "markdown",
   "metadata": {},
   "source": [
    "Q24. Identify Prime Numbers in a Range\n",
    "Write a function that returns a list of all prime numbers in a given range.\n",
    "\n",
    "Input:\n",
    "start = 10, end = 30\n",
    "\n",
    "Output:\n",
    "[11, 13, 17, 19, 23, 29]"
   ]
  },
  {
   "cell_type": "code",
   "execution_count": 27,
   "metadata": {},
   "outputs": [
    {
     "name": "stdout",
     "output_type": "stream",
     "text": [
      "[11, 13, 17, 19, 23, 29]\n"
     ]
    }
   ],
   "source": [
    "def is_prime(num):\n",
    "    if num <= 1:\n",
    "        return False\n",
    "    for i in range(2, int(num**0.5) + 1):\n",
    "        if num % i == 0:\n",
    "            return False\n",
    "    return True\n",
    "\n",
    "def prime_numbers_in_range(start, end):\n",
    "    # Use list comprehension to get all primes in the range\n",
    "    return [num for num in range(start, end + 1) if is_prime(num)]\n",
    "\n",
    "# Input range\n",
    "start = 10\n",
    "end = 30\n",
    "\n",
    "# Output the prime numbers in the range\n",
    "print(prime_numbers_in_range(start, end))\n"
   ]
  },
  {
   "cell_type": "markdown",
   "metadata": {},
   "source": [
    "Q25. Rotate a List by k Positions\n",
    "Write a program to rotate a list by k positions.\n",
    "\n",
    "Input:\n",
    "lst = [1, 2, 3, 4, 5], k = 2\n",
    "\n",
    "Output:\n",
    "[4, 5, 1, 2, 3]"
   ]
  },
  {
   "cell_type": "code",
   "execution_count": 28,
   "metadata": {},
   "outputs": [
    {
     "name": "stdout",
     "output_type": "stream",
     "text": [
      "[4, 5, 1, 2, 3]\n"
     ]
    }
   ],
   "source": [
    "def rotate_list(lst, k):\n",
    "    # Ensure k is within the range of the list length\n",
    "    k = k % len(lst)\n",
    "    # Rotate the list by slicing and concatenating\n",
    "    return lst[-k:] + lst[:-k]\n",
    "\n",
    "# Input list and positions to rotate\n",
    "lst = [1, 2, 3, 4, 5]\n",
    "k = 2\n",
    "\n",
    "# Output the rotated list\n",
    "print(rotate_list(lst, k))\n"
   ]
  },
  {
   "cell_type": "markdown",
   "metadata": {},
   "source": [
    "Q26. Create a Frequency Dictionary for Words in a Sentence\n",
    "Given a sentence, return a dictionary with the frequency count of each word.\n",
    "\n",
    "Input:\n",
    "sentence = \"Python is great and Python is fun\"\n",
    "\n",
    "Output:\n",
    "{'Python': 2, 'is': 2, 'great': 1, 'and': 1, 'fun': 1}"
   ]
  },
  {
   "cell_type": "code",
   "execution_count": 29,
   "metadata": {},
   "outputs": [
    {
     "name": "stdout",
     "output_type": "stream",
     "text": [
      "{'Python': 2, 'is': 2, 'great': 1, 'and': 1, 'fun': 1}\n"
     ]
    }
   ],
   "source": [
    "def word_frequency(sentence):\n",
    "    # Split the sentence into words\n",
    "    words = sentence.split()\n",
    "    \n",
    "    # Create a dictionary with the frequency count of each word\n",
    "    freq_dict = {}\n",
    "    for word in words:\n",
    "        freq_dict[word] = freq_dict.get(word, 0) + 1  # Using get() to handle missing keys\n",
    "    \n",
    "    return freq_dict\n",
    "\n",
    "# Input sentence\n",
    "sentence = \"Python is great and Python is fun\"\n",
    "\n",
    "# Output the frequency dictionary\n",
    "print(word_frequency(sentence))\n"
   ]
  },
  {
   "cell_type": "markdown",
   "metadata": {},
   "source": [
    "Q27. Data Extraction from Tuples\n",
    "You are given tuples of data records, each representing (category, value). Concatenate values within the same category.\n",
    "\n",
    "Input:\n",
    "records = [(5, 'data1'), (5, 'data2'), (6, 'data3'), (5, 'data4')]\n",
    "\n",
    "Output:\n",
    "{5: ('data1', 'data2', 'data4'), 6: ('data3')}"
   ]
  },
  {
   "cell_type": "code",
   "execution_count": 30,
   "metadata": {},
   "outputs": [
    {
     "name": "stdout",
     "output_type": "stream",
     "text": [
      "{5: ('data1', 'data2', 'data4'), 6: ('data3',)}\n"
     ]
    }
   ],
   "source": [
    "def extract_data(records):\n",
    "    # Create a dictionary to store the concatenated values by category\n",
    "    result = {}\n",
    "    \n",
    "    # Iterate through each record in the list\n",
    "    for category, value in records:\n",
    "        # If category already exists in the dictionary, append the value\n",
    "        if category in result:\n",
    "            result[category] += (value,)\n",
    "        else:\n",
    "            # If category doesn't exist, add it with the value as a tuple\n",
    "            result[category] = (value,)\n",
    "    \n",
    "    return result\n",
    "\n",
    "# Input data\n",
    "records = [(5, 'data1'), (5, 'data2'), (6, 'data3'), (5, 'data4')]\n",
    "\n",
    "# Output the result\n",
    "print(extract_data(records))\n"
   ]
  },
  {
   "cell_type": "markdown",
   "metadata": {},
   "source": [
    "Q28. Calculate Cumulative Product of Elements in a List\n",
    "Write a function to compute the cumulative product of elements in a list.\n",
    "\n",
    "Input:\n",
    "lst = [1, 2, 3, 4]\n",
    "\n",
    "Output:\n",
    "[1, 2, 6, 24]"
   ]
  },
  {
   "cell_type": "code",
   "execution_count": 31,
   "metadata": {},
   "outputs": [
    {
     "name": "stdout",
     "output_type": "stream",
     "text": [
      "[1, 2, 6, 24]\n"
     ]
    }
   ],
   "source": [
    "def cumulative_product(lst):\n",
    "    # Initialize an empty list to store the cumulative products\n",
    "    result = []\n",
    "    product = 1\n",
    "    \n",
    "    # Iterate through the list and compute the cumulative product\n",
    "    for num in lst:\n",
    "        product *= num\n",
    "        result.append(product)\n",
    "    \n",
    "    return result\n",
    "\n",
    "# Input list\n",
    "lst = [1, 2, 3, 4]\n",
    "\n",
    "# Output the cumulative product\n",
    "print(cumulative_product(lst))\n"
   ]
  },
  {
   "cell_type": "markdown",
   "metadata": {},
   "source": [
    "Q29. Capitalize First and Last Character of Each Word in a String\n",
    "Write a function that capitalizes the first and last character of each word.\n",
    "\n",
    "Input:\n",
    "s = \"hello world\"\n",
    "\n",
    "Output:\n",
    "\"Hello World\""
   ]
  },
  {
   "cell_type": "code",
   "execution_count": 34,
   "metadata": {},
   "outputs": [
    {
     "name": "stdout",
     "output_type": "stream",
     "text": [
      "HellO WorlD\n"
     ]
    }
   ],
   "source": [
    "def capitalize_first_last(s):\n",
    "    # Split the string into words\n",
    "    words = s.split()\n",
    "    \n",
    "    # Iterate over each word and capitalize the first and last characters\n",
    "    result = []\n",
    "    for word in words:\n",
    "        if len(word) > 1:\n",
    "            # Capitalize only the first and last characters\n",
    "            new_word = word[0].upper() + word[1:-1] + word[-1].upper()\n",
    "        else:\n",
    "            # For single character words, just capitalize it\n",
    "            new_word = word.upper()\n",
    "        result.append(new_word)\n",
    "    \n",
    "    # Join the modified words back into a single string\n",
    "    return ' '.join(result)\n",
    "\n",
    "# Input string\n",
    "s = \"hello world\"\n",
    "\n",
    "# Output the modified string\n",
    "print(capitalize_first_last(s))\n"
   ]
  },
  {
   "cell_type": "markdown",
   "metadata": {},
   "source": [
    "Q30. Find Maximum and Minimum Numbers in a List Without Using Built-in Functions\n",
    "Write a function to find the maximum and minimum numbers in a list without using built-in functions.\n",
    "\n",
    "Input:\n",
    "lst = [4, 2, 8, 1, 9, 6]\n",
    "\n",
    "Output:\n",
    "(1, 9)"
   ]
  },
  {
   "cell_type": "code",
   "execution_count": 38,
   "metadata": {},
   "outputs": [
    {
     "name": "stdout",
     "output_type": "stream",
     "text": [
      "(1, 9)\n"
     ]
    }
   ],
   "source": [
    "def find_min_max(lst):\n",
    "    # Initialize the min and max variables with the first element of the list\n",
    "    min_num = max_num = lst[0]\n",
    "    \n",
    "    # Iterate through the list to find the min and max\n",
    "    for num in lst:\n",
    "        if num < min_num:\n",
    "            min_num = num\n",
    "        if num > max_num:\n",
    "            max_num = num\n",
    "    \n",
    "    return (min_num, max_num)\n",
    "\n",
    "# Test the function with the given input\n",
    "lst = [4, 2, 8, 1, 9, 6]\n",
    "print(find_min_max(lst))\n"
   ]
  },
  {
   "cell_type": "markdown",
   "metadata": {},
   "source": [
    "Q31. Create a Dictionary with Squares of Numbers as Keys and Cubes as Values\n",
    "Given a list of integers, create a dictionary where each integer's square is the key, and the cube is the value.\n",
    "\n",
    "Input:\n",
    "numbers = [1, 2, 3, 4, 5]\n",
    "\n",
    "Output:\n",
    "{1: 1, 4: 8, 9: 27, 16: 64, 25: 125}"
   ]
  },
  {
   "cell_type": "code",
   "execution_count": 39,
   "metadata": {},
   "outputs": [
    {
     "name": "stdout",
     "output_type": "stream",
     "text": [
      "{1: 1, 4: 8, 9: 27, 16: 64, 25: 125}\n"
     ]
    }
   ],
   "source": [
    "def create_square_cube_dict(numbers):\n",
    "    # Create a dictionary using dictionary comprehension\n",
    "    return {num**2: num**3 for num in numbers}\n",
    "\n",
    "# Test the function with the given input\n",
    "numbers = [1, 2, 3, 4, 5]\n",
    "print(create_square_cube_dict(numbers))\n"
   ]
  },
  {
   "cell_type": "markdown",
   "metadata": {},
   "source": [
    "Q32. Find All Anagrams in a List of Strings\n",
    "Write a function to identify anagrams in a list of strings.\n",
    "\n",
    "Input:\n",
    "words = [\"bat\", \"tab\", \"cat\", \"act\"]\n",
    "\n",
    "Output:\n",
    "[['bat', 'tab'], ['cat', 'act']]"
   ]
  },
  {
   "cell_type": "code",
   "execution_count": 40,
   "metadata": {},
   "outputs": [
    {
     "name": "stdout",
     "output_type": "stream",
     "text": [
      "[['bat', 'tab'], ['cat', 'act']]\n"
     ]
    }
   ],
   "source": [
    "from collections import defaultdict\n",
    "\n",
    "def group_anagrams(words):\n",
    "    # Create a dictionary to hold groups of anagrams\n",
    "    anagrams = defaultdict(list)\n",
    "    \n",
    "    # Iterate over each word\n",
    "    for word in words:\n",
    "        # Sort the word and use the sorted word as the key\n",
    "        sorted_word = ''.join(sorted(word))\n",
    "        anagrams[sorted_word].append(word)\n",
    "    \n",
    "    # Return only the groups that contain more than one word (i.e., anagrams)\n",
    "    return [group for group in anagrams.values() if len(group) > 1]\n",
    "\n",
    "# Test the function with the given input\n",
    "words = [\"bat\", \"tab\", \"cat\", \"act\"]\n",
    "print(group_anagrams(words))\n"
   ]
  },
  {
   "cell_type": "markdown",
   "metadata": {},
   "source": [
    "Q33. Generate All Possible Pairs of Elements from Two Lists\n",
    "Write a program to generate all possible pairs of elements where the first element is from the first list and the second element is from the second list.\n",
    "\n",
    "Input:\n",
    "list1 = [1, 2]\n",
    "list2 = ['a', 'b']\n",
    "\n",
    "Output:\n",
    "[(1, 'a'), (1, 'b'), (2, 'a'), (2, 'b')]"
   ]
  },
  {
   "cell_type": "code",
   "execution_count": 41,
   "metadata": {},
   "outputs": [
    {
     "name": "stdout",
     "output_type": "stream",
     "text": [
      "[(1, 'a'), (1, 'b'), (2, 'a'), (2, 'b')]\n"
     ]
    }
   ],
   "source": [
    "def generate_pairs(list1, list2):\n",
    "    # Use list comprehension to generate all possible pairs\n",
    "    return [(x, y) for x in list1 for y in list2]\n",
    "\n",
    "# Test the function with the given input\n",
    "list1 = [1, 2]\n",
    "list2 = ['a', 'b']\n",
    "print(generate_pairs(list1, list2))\n"
   ]
  },
  {
   "cell_type": "markdown",
   "metadata": {},
   "source": [
    "Q34. Calculate the Average Word Length in a Sentence\n",
    "Write a function to calculate the average length of words in a sentence.\n",
    "\n",
    "Input:\n",
    "sentence = \"Python is amazing\"\n",
    "\n",
    "Output:\n",
    "5.0"
   ]
  },
  {
   "cell_type": "code",
   "execution_count": 42,
   "metadata": {},
   "outputs": [
    {
     "name": "stdout",
     "output_type": "stream",
     "text": [
      "5.0\n"
     ]
    }
   ],
   "source": [
    "def average_word_length(sentence):\n",
    "    # Split the sentence into words\n",
    "    words = sentence.split()\n",
    "    \n",
    "    # Calculate the total length of all words\n",
    "    total_length = sum(len(word) for word in words)\n",
    "    \n",
    "    # Calculate the average length\n",
    "    return total_length / len(words) if words else 0  # Avoid division by zero if there are no words\n",
    "\n",
    "# Test the function with the given input\n",
    "sentence = \"Python is amazing\"\n",
    "print(average_word_length(sentence))\n"
   ]
  },
  {
   "cell_type": "markdown",
   "metadata": {},
   "source": [
    "Q35. Filter Employees Based on Salary and Department\n",
    "Given a list of employees with their department and salary, filter out employees who belong to a specific department and have a salary above a certain threshold.\n",
    "\n",
    "Input:\n",
    "employees = [\n",
    "{\"name\": \"Alice\", \"department\": \"HR\", \"salary\": 70000},\n",
    "{\"name\": \"Bob\", \"department\": \"IT\", \"salary\": 90000},\n",
    "{\"name\": \"Charlie\", \"department\": \"HR\", \"salary\": 85000}\n",
    "]\n",
    "\n",
    "Output:\n",
    "[{'name': 'Charlie', 'department': 'HR', 'salary': 85000}]"
   ]
  },
  {
   "cell_type": "code",
   "execution_count": 43,
   "metadata": {},
   "outputs": [
    {
     "name": "stdout",
     "output_type": "stream",
     "text": [
      "[{'name': 'Charlie', 'department': 'HR', 'salary': 85000}]\n"
     ]
    }
   ],
   "source": [
    "def filter_employees(employees, department, salary_threshold):\n",
    "    # Filter employees based on department and salary criteria\n",
    "    return [employee for employee in employees if employee[\"department\"] == department and employee[\"salary\"] > salary_threshold]\n",
    "\n",
    "# Test the function with the given input\n",
    "employees = [\n",
    "    {\"name\": \"Alice\", \"department\": \"HR\", \"salary\": 70000},\n",
    "    {\"name\": \"Bob\", \"department\": \"IT\", \"salary\": 90000},\n",
    "    {\"name\": \"Charlie\", \"department\": \"HR\", \"salary\": 85000}\n",
    "]\n",
    "\n",
    "department = \"HR\"\n",
    "salary_threshold = 80000\n",
    "\n",
    "print(filter_employees(employees, department, salary_threshold))\n"
   ]
  },
  {
   "cell_type": "markdown",
   "metadata": {},
   "source": [
    "Q36. Find All Prime Factors of a Given Number\n",
    "Write a function to find all prime factors of a given integer.\n",
    "\n",
    "Input:\n",
    "n = 56\n",
    "\n",
    "Output:\n",
    "[2, 2, 2, 7]"
   ]
  },
  {
   "cell_type": "code",
   "execution_count": 44,
   "metadata": {},
   "outputs": [
    {
     "name": "stdout",
     "output_type": "stream",
     "text": [
      "[2, 2, 2, 7]\n"
     ]
    }
   ],
   "source": [
    "def prime_factors(n):\n",
    "    factors = []\n",
    "    \n",
    "    # Check for number of 2s that divide n\n",
    "    while n % 2 == 0:\n",
    "        factors.append(2)\n",
    "        n //= 2\n",
    "    \n",
    "    # Now n must be odd, check for odd factors from 3 onwards\n",
    "    for i in range(3, int(n**0.5) + 1, 2):\n",
    "        while n % i == 0:\n",
    "            factors.append(i)\n",
    "            n //= i\n",
    "    \n",
    "    # If n is a prime number greater than 2\n",
    "    if n > 2:\n",
    "        factors.append(n)\n",
    "    \n",
    "    return factors\n",
    "\n",
    "# Test the function with the given input\n",
    "n = 56\n",
    "print(prime_factors(n))\n"
   ]
  },
  {
   "cell_type": "markdown",
   "metadata": {},
   "source": [
    "Q37. Check for Palindrome\n",
    "Write a function to check if a given string is a palindrome (reads the same backward).\n",
    "\n",
    "Input:\n",
    "s = \"racecar\"\n",
    "\n",
    "Expected Output:\n",
    "True"
   ]
  },
  {
   "cell_type": "code",
   "execution_count": 45,
   "metadata": {},
   "outputs": [
    {
     "name": "stdout",
     "output_type": "stream",
     "text": [
      "True\n"
     ]
    }
   ],
   "source": [
    "def is_palindrome(s):\n",
    "    # Check if the string is equal to its reverse\n",
    "    return s == s[::-1]\n",
    "\n",
    "# Test the function with the given input\n",
    "s = \"racecar\"\n",
    "print(is_palindrome(s))\n"
   ]
  },
  {
   "cell_type": "markdown",
   "metadata": {},
   "source": [
    "Q38. Find Factorial Using Recursion\n",
    "Write a function to find the factorial of a number using recursion.\n",
    "\n",
    "Input:\n",
    "num = 5\n",
    "\n",
    "Expected Output:\n",
    "120"
   ]
  },
  {
   "cell_type": "code",
   "execution_count": 46,
   "metadata": {},
   "outputs": [
    {
     "name": "stdout",
     "output_type": "stream",
     "text": [
      "120\n"
     ]
    }
   ],
   "source": [
    "def factorial(num):\n",
    "    # Base case: factorial of 0 or 1 is 1\n",
    "    if num == 0 or num == 1:\n",
    "        return 1\n",
    "    # Recursive case: factorial of num is num * factorial of (num - 1)\n",
    "    else:\n",
    "        return num * factorial(num - 1)\n",
    "\n",
    "# Test the function with the given input\n",
    "num = 5\n",
    "print(factorial(num))\n"
   ]
  },
  {
   "cell_type": "markdown",
   "metadata": {},
   "source": [
    "Q39. Find the Second Largest Number in a List\n",
    "Write a program to find the second largest number in a list.\n",
    "\n",
    "Input:\n",
    "lst = [10, 20, 4, 45, 99]\n",
    "\n",
    "Expected Output:\n",
    "45"
   ]
  },
  {
   "cell_type": "code",
   "execution_count": 47,
   "metadata": {},
   "outputs": [
    {
     "name": "stdout",
     "output_type": "stream",
     "text": [
      "45\n"
     ]
    }
   ],
   "source": [
    "def second_largest(lst):\n",
    "    # Initialize two variables to hold the largest and second largest numbers\n",
    "    largest = second_largest = float('-inf')\n",
    "\n",
    "    # Loop through the list\n",
    "    for num in lst:\n",
    "        if num > largest:\n",
    "            second_largest = largest  # Update second largest\n",
    "            largest = num  # Update largest\n",
    "        elif num > second_largest and num != largest:\n",
    "            second_largest = num  # Update second largest if num is not equal to largest\n",
    "\n",
    "    return second_largest\n",
    "\n",
    "# Test the function with the given input\n",
    "lst = [10, 20, 4, 45, 99]\n",
    "print(second_largest(lst))\n"
   ]
  },
  {
   "cell_type": "markdown",
   "metadata": {},
   "source": [
    "Q40. Generate Fibonacci Series up to N Terms\n",
    "Write a function to generate a Fibonacci series up to n terms.\n",
    "\n",
    "Input:\n",
    "n = 5\n",
    "\n",
    "Expected Output:\n",
    "[0, 1, 1, 2, 3]"
   ]
  },
  {
   "cell_type": "code",
   "execution_count": 48,
   "metadata": {},
   "outputs": [
    {
     "name": "stdout",
     "output_type": "stream",
     "text": [
      "[0, 1, 1, 2, 3]\n"
     ]
    }
   ],
   "source": [
    "def fibonacci(n):\n",
    "    # Initialize the first two terms of the Fibonacci sequence\n",
    "    fib_series = []\n",
    "    \n",
    "    # Handle edge case where n is 0\n",
    "    if n <= 0:\n",
    "        return fib_series\n",
    "    \n",
    "    # First two terms\n",
    "    fib_series.append(0)\n",
    "    if n > 1:\n",
    "        fib_series.append(1)\n",
    "    \n",
    "    # Generate the rest of the terms\n",
    "    for i in range(2, n):\n",
    "        # The next term is the sum of the last two terms\n",
    "        next_term = fib_series[-1] + fib_series[-2]\n",
    "        fib_series.append(next_term)\n",
    "    \n",
    "    return fib_series\n",
    "\n",
    "# Test the function with the given input\n",
    "n = 5\n",
    "print(fibonacci(n))\n"
   ]
  },
  {
   "cell_type": "markdown",
   "metadata": {},
   "source": [
    "Q41. Count the Number of Upper and Lower Case Letters in a String\n",
    "Write a function to count the number of uppercase and lowercase letters in a string.\n",
    "\n",
    "Input:\n",
    "s = \"Hello World\"\n",
    "\n",
    "Expected Output:\n",
    "{'uppercase': 2, 'lowercase': 8}"
   ]
  },
  {
   "cell_type": "code",
   "execution_count": 49,
   "metadata": {},
   "outputs": [
    {
     "name": "stdout",
     "output_type": "stream",
     "text": [
      "{'uppercase': 2, 'lowercase': 8}\n"
     ]
    }
   ],
   "source": [
    "def count_case(s):\n",
    "    # Initialize counters for uppercase and lowercase letters\n",
    "    uppercase_count = 0\n",
    "    lowercase_count = 0\n",
    "    \n",
    "    # Iterate through each character in the string\n",
    "    for char in s:\n",
    "        if char.isupper():\n",
    "            uppercase_count += 1\n",
    "        elif char.islower():\n",
    "            lowercase_count += 1\n",
    "    \n",
    "    # Return the result as a dictionary\n",
    "    return {'uppercase': uppercase_count, 'lowercase': lowercase_count}\n",
    "\n",
    "# Test the function with the given input\n",
    "s = \"Hello World\"\n",
    "print(count_case(s))\n"
   ]
  },
  {
   "cell_type": "markdown",
   "metadata": {},
   "source": [
    "Q42. Find All Unique Permutations of a String\n",
    "Write a function to find all unique permutations of a string.\n",
    "\n",
    "Input:\n",
    "s = \"abc\"\n",
    "\n",
    "Expected Output:\n",
    "['abc', 'acb', 'bac', 'bca', 'cab', 'cba']"
   ]
  },
  {
   "cell_type": "code",
   "execution_count": 50,
   "metadata": {},
   "outputs": [
    {
     "name": "stdout",
     "output_type": "stream",
     "text": [
      "['abc', 'acb', 'bac', 'bca', 'cab', 'cba']\n"
     ]
    }
   ],
   "source": [
    "import itertools\n",
    "\n",
    "def unique_permutations(s):\n",
    "    # Generate all permutations using itertools.permutations\n",
    "    perm = itertools.permutations(s)\n",
    "    \n",
    "    # Convert permutations to a set to ensure uniqueness and then back to a list\n",
    "    unique_perm = set([''.join(p) for p in perm])\n",
    "    \n",
    "    # Return the sorted list of unique permutations\n",
    "    return sorted(unique_perm)\n",
    "\n",
    "# Test the function with the input 'abc'\n",
    "s = \"abc\"\n",
    "print(unique_permutations(s))\n"
   ]
  },
  {
   "cell_type": "markdown",
   "metadata": {},
   "source": [
    "Q43. Check if a List is a Subset of Another List\n",
    "Write a function to check if one list is a subset of another.\n",
    "\n",
    "Input:\n",
    "list1 = [1, 2, 3]\n",
    "list2 = [1, 2, 3, 4, 5]\n",
    "\n",
    "Expected Output:\n",
    "True"
   ]
  },
  {
   "cell_type": "code",
   "execution_count": 51,
   "metadata": {},
   "outputs": [
    {
     "name": "stdout",
     "output_type": "stream",
     "text": [
      "True\n"
     ]
    }
   ],
   "source": [
    "def is_subset(list1, list2):\n",
    "    # Convert both lists to sets and check if list1 is a subset of list2\n",
    "    return set(list1) <= set(list2)\n",
    "\n",
    "# Test the function with the input lists\n",
    "list1 = [1, 2, 3]\n",
    "list2 = [1, 2, 3, 4, 5]\n",
    "print(is_subset(list1, list2))\n"
   ]
  },
  {
   "cell_type": "markdown",
   "metadata": {},
   "source": [
    "Q44. Find the Longest Word in a Sentence\n",
    "Write a function to find the longest word in a given sentence.\n",
    "\n",
    "Input:\n",
    "sentence = \"Python programming is fun and rewarding\"\n",
    "\n",
    "Expected Output:\n",
    "\"programming\""
   ]
  },
  {
   "cell_type": "code",
   "execution_count": 52,
   "metadata": {},
   "outputs": [
    {
     "name": "stdout",
     "output_type": "stream",
     "text": [
      "programming\n"
     ]
    }
   ],
   "source": [
    "def longest_word(sentence):\n",
    "    # Split the sentence into words\n",
    "    words = sentence.split()\n",
    "    \n",
    "    # Find the word with the maximum length\n",
    "    longest = max(words, key=len)\n",
    "    \n",
    "    return longest\n",
    "\n",
    "# Test the function with the input sentence\n",
    "sentence = \"Python programming is fun and rewarding\"\n",
    "print(longest_word(sentence))\n"
   ]
  },
  {
   "cell_type": "markdown",
   "metadata": {},
   "source": [
    "Q45. Pattern Printing - Right Aligned Triangle\n",
    "Print a right-aligned triangle pattern of stars for a given number of rows.\n",
    "\n",
    "Input:\n",
    "n = 4\n",
    "\n",
    "Expected Output:\n",
    "    *\n",
    "   **\n",
    "  ***\n",
    " ****"
   ]
  },
  {
   "cell_type": "code",
   "execution_count": 53,
   "metadata": {},
   "outputs": [
    {
     "name": "stdout",
     "output_type": "stream",
     "text": [
      "   *\n",
      "  **\n",
      " ***\n",
      "****\n"
     ]
    }
   ],
   "source": [
    "def right_aligned_triangle(n):\n",
    "    # Loop through each row\n",
    "    for i in range(1, n + 1):\n",
    "        # Print leading spaces (n-i) and then stars (i)\n",
    "        print(' ' * (n - i) + '*' * i)\n",
    "\n",
    "# Test the function with n = 4\n",
    "n = 4\n",
    "right_aligned_triangle(n)\n"
   ]
  },
  {
   "cell_type": "markdown",
   "metadata": {},
   "source": [
    "Q46. Pattern Printing - Diamond Shape\n",
    "Print a diamond shape pattern based on the given number of rows.\n",
    "\n",
    "Input:\n",
    "n = 3\n",
    "\n",
    "Expected Output:\n",
    "  *\n",
    " ***\n",
    "*****\n",
    " ***\n",
    "  *"
   ]
  },
  {
   "cell_type": "code",
   "execution_count": 54,
   "metadata": {},
   "outputs": [
    {
     "name": "stdout",
     "output_type": "stream",
     "text": [
      "  *\n",
      " ***\n",
      "*****\n",
      " ***\n",
      "  *\n"
     ]
    }
   ],
   "source": [
    "def diamond_shape(n):\n",
    "    # Upper part of the diamond\n",
    "    for i in range(1, n + 1):\n",
    "        # Print leading spaces and stars for the upper part\n",
    "        print(' ' * (n - i) + '*' * (2 * i - 1))\n",
    "\n",
    "    # Lower part of the diamond\n",
    "    for i in range(n - 1, 0, -1):\n",
    "        # Print leading spaces and stars for the lower part\n",
    "        print(' ' * (n - i) + '*' * (2 * i - 1))\n",
    "\n",
    "# Test the function with n = 3\n",
    "n = 3\n",
    "diamond_shape(n)\n"
   ]
  },
  {
   "cell_type": "markdown",
   "metadata": {},
   "source": [
    "Q47. Find the Kth Smallest Element in a List\n",
    "Write a function to find the kth smallest element in a list.\n",
    "\n",
    "Input:\n",
    "lst = [7, 10, 4, 3, 20, 15]\n",
    "k = 3\n",
    "\n",
    "Expected Output:\n",
    "7"
   ]
  },
  {
   "cell_type": "code",
   "execution_count": 55,
   "metadata": {},
   "outputs": [
    {
     "name": "stdout",
     "output_type": "stream",
     "text": [
      "7\n"
     ]
    }
   ],
   "source": [
    "def kth_smallest(lst, k):\n",
    "    # Sort the list in ascending order\n",
    "    lst.sort()\n",
    "    \n",
    "    # Return the k-th smallest element (k-1 index)\n",
    "    return lst[k - 1]\n",
    "\n",
    "# Test the function with the input list and k = 3\n",
    "lst = [7, 10, 4, 3, 20, 15]\n",
    "k = 3\n",
    "print(kth_smallest(lst, k))\n"
   ]
  },
  {
   "cell_type": "markdown",
   "metadata": {},
   "source": [
    "Q48. Convert List of Tuples to Dictionary with Summed Values\n",
    "Given a list of tuples, convert it to a dictionary with keys as the first elements and values as the sum of second elements for each key.\n",
    "\n",
    "Input:\n",
    "lst = [('A', 10), ('B', 20), ('A', 30), ('B', 5)]\n",
    "\n",
    "Expected Output:\n",
    "{'A': 40, 'B': 25}"
   ]
  },
  {
   "cell_type": "code",
   "execution_count": 56,
   "metadata": {},
   "outputs": [
    {
     "name": "stdout",
     "output_type": "stream",
     "text": [
      "{'A': 40, 'B': 25}\n"
     ]
    }
   ],
   "source": [
    "def convert_to_dict(lst):\n",
    "    # Initialize an empty dictionary\n",
    "    result = {}\n",
    "    \n",
    "    # Iterate over the list of tuples\n",
    "    for key, value in lst:\n",
    "        # If the key is already in the dictionary, add the value\n",
    "        if key in result:\n",
    "            result[key] += value\n",
    "        else:\n",
    "            # Otherwise, add the key to the dictionary with the value\n",
    "            result[key] = value\n",
    "    \n",
    "    return result\n",
    "\n",
    "# Test the function with the input list\n",
    "lst = [('A', 10), ('B', 20), ('A', 30), ('B', 5)]\n",
    "print(convert_to_dict(lst))\n"
   ]
  },
  {
   "cell_type": "markdown",
   "metadata": {},
   "source": [
    "Q49. Remove Duplicate Tuples from List of Tuples Based on First Element\n",
    "Write a function to remove duplicate tuples from a list based on the first element.\n",
    "\n",
    "Input:\n",
    "lst = [(1, 'a'), (2, 'b'), (1, 'c'), (3, 'd'), (2, 'e')]\n",
    "\n",
    "Expected Output:\n",
    "[(1, 'a'), (2, 'b'), (3, 'd')]"
   ]
  },
  {
   "cell_type": "code",
   "execution_count": 57,
   "metadata": {},
   "outputs": [
    {
     "name": "stdout",
     "output_type": "stream",
     "text": [
      "[(1, 'a'), (2, 'b'), (3, 'd')]\n"
     ]
    }
   ],
   "source": [
    "def remove_duplicates(lst):\n",
    "    # Initialize an empty set to keep track of seen first elements\n",
    "    seen = set()\n",
    "    result = []\n",
    "    \n",
    "    # Iterate over the list of tuples\n",
    "    for item in lst:\n",
    "        # If the first element of the tuple is not in the seen set\n",
    "        if item[0] not in seen:\n",
    "            result.append(item)  # Add the tuple to the result list\n",
    "            seen.add(item[0])  # Add the first element to the seen set\n",
    "    \n",
    "    return result\n",
    "\n",
    "# Test the function with the input list\n",
    "lst = [(1, 'a'), (2, 'b'), (1, 'c'), (3, 'd'), (2, 'e')]\n",
    "print(remove_duplicates(lst))\n"
   ]
  },
  {
   "cell_type": "markdown",
   "metadata": {},
   "source": [
    "Q50. Check if List Contains All Unique Elements\n",
    "Write a function to check if all elements in a list are unique.\n",
    "\n",
    "Input:\n",
    "lst = [1, 2, 3, 4, 5]\n",
    "\n",
    "Expected Output:\n",
    "True"
   ]
  },
  {
   "cell_type": "code",
   "execution_count": 58,
   "metadata": {},
   "outputs": [
    {
     "name": "stdout",
     "output_type": "stream",
     "text": [
      "True\n"
     ]
    }
   ],
   "source": [
    "def all_unique(lst):\n",
    "    # Check if the length of the set is equal to the length of the list\n",
    "    return len(lst) == len(set(lst))\n",
    "\n",
    "# Test the function with the input list\n",
    "lst = [1, 2, 3, 4, 5]\n",
    "print(all_unique(lst))\n"
   ]
  },
  {
   "cell_type": "markdown",
   "metadata": {},
   "source": [
    "Q51. Generate a Dictionary from Two Lists\n",
    "Write a function to generate a dictionary from two lists, where one list provides keys and the other list provides values.\n",
    "\n",
    "Input:\n",
    "keys = ['name', 'age', 'city']\n",
    "values = ['Alice', 25, 'New York']\n",
    "\n",
    "Expected Output:\n",
    "{'name': 'Alice', 'age': 25, 'city': 'New York'}"
   ]
  },
  {
   "cell_type": "code",
   "execution_count": 59,
   "metadata": {},
   "outputs": [
    {
     "name": "stdout",
     "output_type": "stream",
     "text": [
      "{'name': 'Alice', 'age': 25, 'city': 'New York'}\n"
     ]
    }
   ],
   "source": [
    "def generate_dict(keys, values):\n",
    "    # Use zip to pair elements from both lists and convert them into a dictionary\n",
    "    return dict(zip(keys, values))\n",
    "\n",
    "# Test the function with the input lists\n",
    "keys = ['name', 'age', 'city']\n",
    "values = ['Alice', 25, 'New York']\n",
    "print(generate_dict(keys, values))\n"
   ]
  },
  {
   "cell_type": "markdown",
   "metadata": {},
   "source": [
    "Q52. Pattern Printing - Number Pyramid\n",
    "Write a function to print a number pyramid for a given number of rows.\n",
    "\n",
    "Input:\n",
    "n = 4\n",
    "\n",
    "Expected Output:\n",
    "\n",
    "Copy code\n",
    "   1\n",
    "  2 2\n",
    " 3 3 3\n",
    "4 4 4 4"
   ]
  },
  {
   "cell_type": "code",
   "execution_count": 60,
   "metadata": {},
   "outputs": [
    {
     "name": "stdout",
     "output_type": "stream",
     "text": [
      "   1\n",
      "  2 2\n",
      " 3 3 3\n",
      "4 4 4 4\n"
     ]
    }
   ],
   "source": [
    "def number_pyramid(n):\n",
    "    # Loop through each row\n",
    "    for i in range(1, n + 1):\n",
    "        # Print leading spaces to create the pyramid shape\n",
    "        print(' ' * (n - i), end='')  \n",
    "        \n",
    "        # Print the number i, i times (separated by spaces)\n",
    "        print(' '.join([str(i)] * i))\n",
    "\n",
    "# Test the function with n = 4\n",
    "n = 4\n",
    "number_pyramid(n)\n"
   ]
  },
  {
   "cell_type": "markdown",
   "metadata": {},
   "source": [
    "Q53. Concatenate Two Lists Alternately\n",
    "Write a function to concatenate two lists in an alternate manner.\n",
    "\n",
    "Input:\n",
    "list1 = [1, 2, 3]\n",
    "list2 = ['a', 'b', 'c']\n",
    "\n",
    "Expected Output:\n",
    "[1, 'a', 2, 'b', 3, 'c']"
   ]
  },
  {
   "cell_type": "code",
   "execution_count": 61,
   "metadata": {},
   "outputs": [
    {
     "name": "stdout",
     "output_type": "stream",
     "text": [
      "[1, 'a', 2, 'b', 3, 'c']\n"
     ]
    }
   ],
   "source": [
    "def alternate_concatenate(list1, list2):\n",
    "    # Use zip to pair elements from both lists and then flatten the result\n",
    "    result = [elem for pair in zip(list1, list2) for elem in pair]\n",
    "    \n",
    "    return result\n",
    "\n",
    "# Test the function with the input lists\n",
    "list1 = [1, 2, 3]\n",
    "list2 = ['a', 'b', 'c']\n",
    "print(alternate_concatenate(list1, list2))\n"
   ]
  },
  {
   "cell_type": "markdown",
   "metadata": {},
   "source": [
    "Q54. Split List into Even and Odd Numbers\n",
    "Write a function to split a list of integers into two lists, one for even numbers and one for odd numbers.\n",
    "\n",
    "Input:\n",
    "lst = [1, 2, 3, 4, 5, 6]\n",
    "\n",
    "Expected Output:\n",
    "([2, 4, 6], [1, 3, 5])"
   ]
  },
  {
   "cell_type": "code",
   "execution_count": 62,
   "metadata": {},
   "outputs": [
    {
     "name": "stdout",
     "output_type": "stream",
     "text": [
      "([2, 4, 6], [1, 3, 5])\n"
     ]
    }
   ],
   "source": [
    "def split_even_odd(lst):\n",
    "    # Initialize two lists: one for even numbers and one for odd numbers\n",
    "    even = []\n",
    "    odd = []\n",
    "    \n",
    "    # Loop through each element in the input list\n",
    "    for num in lst:\n",
    "        if num % 2 == 0:\n",
    "            even.append(num)  # If the number is even, add it to the 'even' list\n",
    "        else:\n",
    "            odd.append(num)  # If the number is odd, add it to the 'odd' list\n",
    "    \n",
    "    return even, odd\n",
    "\n",
    "# Test the function with the input list\n",
    "lst = [1, 2, 3, 4, 5, 6]\n",
    "print(split_even_odd(lst))\n"
   ]
  },
  {
   "cell_type": "markdown",
   "metadata": {},
   "source": [
    "Q55. Product Pricing with Discounts\n",
    "You are working for an e-commerce website and need to calculate the final price of products after applying a discount. Given a list of product prices and a discount percentage, calculate the new prices for each product.\n",
    "\n",
    "Input:\n",
    "prices = [100, 200, 300, 400]\n",
    "discount = 10 # 10% discount\n",
    "\n",
    "Expected Output:\n",
    "[90.0, 180.0, 270.0, 360.0]"
   ]
  },
  {
   "cell_type": "code",
   "execution_count": 63,
   "metadata": {},
   "outputs": [
    {
     "name": "stdout",
     "output_type": "stream",
     "text": [
      "[90.0, 180.0, 270.0, 360.0]\n"
     ]
    }
   ],
   "source": [
    "def apply_discount(prices, discount):\n",
    "    # Calculate the discount multiplier (1 - discount/100)\n",
    "    discount_multiplier = (100 - discount) / 100\n",
    "    \n",
    "    # Apply the discount to each price in the list\n",
    "    discounted_prices = [price * discount_multiplier for price in prices]\n",
    "    \n",
    "    return discounted_prices\n",
    "\n",
    "# Test the function with the input prices and discount\n",
    "prices = [100, 200, 300, 400]\n",
    "discount = 10\n",
    "print(apply_discount(prices, discount))\n"
   ]
  },
  {
   "cell_type": "markdown",
   "metadata": {},
   "source": [
    "Q56. Finding Missing Numbers in a Sequence\n",
    "You are analyzing a dataset that contains a sequence of numbers, but some numbers are missing. Write a function to find the missing numbers in the sequence.\n",
    "\n",
    "Input:\n",
    "sequence = [1, 2, 4, 5, 6]\n",
    "\n",
    "Expected Output:\n",
    "[3]"
   ]
  },
  {
   "cell_type": "code",
   "execution_count": 64,
   "metadata": {},
   "outputs": [
    {
     "name": "stdout",
     "output_type": "stream",
     "text": [
      "[3]\n"
     ]
    }
   ],
   "source": [
    "def find_missing_numbers(sequence):\n",
    "    # Find the range of numbers from the minimum to the maximum in the sequence\n",
    "    complete_sequence = set(range(min(sequence), max(sequence) + 1))\n",
    "    \n",
    "    # Convert the input sequence into a set and find the difference\n",
    "    missing_numbers = list(complete_sequence - set(sequence))\n",
    "    \n",
    "    return sorted(missing_numbers)\n",
    "\n",
    "# Test the function with the input sequence\n",
    "sequence = [1, 2, 4, 5, 6]\n",
    "print(find_missing_numbers(sequence))\n"
   ]
  },
  {
   "cell_type": "markdown",
   "metadata": {},
   "source": [
    "Ques57. Sort Students Based on Grades\n",
    "You are working on an application that tracks student grades. You need to sort a list of students and their grades in descending order based on their grades.\n",
    "\n",
    "Input:\n",
    "students = [(\"John\", 85), (\"Alice\", 92), (\"Bob\", 78), (\"Charlie\", 88)]\n",
    "\n",
    "Expected Output:\n",
    "[(\"Alice\", 92), (\"Charlie\", 88), (\"John\", 85), (\"Bob\", 78)]"
   ]
  },
  {
   "cell_type": "code",
   "execution_count": 65,
   "metadata": {},
   "outputs": [
    {
     "name": "stdout",
     "output_type": "stream",
     "text": [
      "[('Alice', 92), ('Charlie', 88), ('John', 85), ('Bob', 78)]\n"
     ]
    }
   ],
   "source": [
    "def sort_students_by_grades(students):\n",
    "    # Sort the list of students by the second element (grade) in descending order\n",
    "    return sorted(students, key=lambda x: x[1], reverse=True)\n",
    "\n",
    "# Test the function with the input list\n",
    "students = [(\"John\", 85), (\"Alice\", 92), (\"Bob\", 78), (\"Charlie\", 88)]\n",
    "print(sort_students_by_grades(students))\n"
   ]
  },
  {
   "cell_type": "markdown",
   "metadata": {},
   "source": [
    "Q58. Grouping Products by Category\n",
    "You are building an e-commerce platform, and you need to group products by their categories. Given a list of products with their categories, write a solution to group them by category.\n",
    "\n",
    "Input:\n",
    "products = [(\"Shirt\", \"Clothing\"), (\"Jeans\", \"Clothing\"), (\"Apple\", \"Fruits\"), (\"Banana\", \"Fruits\")]\n",
    "\n",
    "Expected Output:\n",
    "{\"Clothing\": [\"Shirt\", \"Jeans\"], \"Fruits\": [\"Apple\", \"Banana\"]}"
   ]
  },
  {
   "cell_type": "code",
   "execution_count": 66,
   "metadata": {},
   "outputs": [
    {
     "name": "stdout",
     "output_type": "stream",
     "text": [
      "{'Clothing': ['Shirt', 'Jeans'], 'Fruits': ['Apple', 'Banana']}\n"
     ]
    }
   ],
   "source": [
    "def group_products_by_category(products):\n",
    "    # Initialize an empty dictionary to store products grouped by category\n",
    "    category_dict = {}\n",
    "    \n",
    "    # Iterate through each product and its category\n",
    "    for product, category in products:\n",
    "        # If the category is not in the dictionary, add it with an empty list\n",
    "        if category not in category_dict:\n",
    "            category_dict[category] = []\n",
    "        \n",
    "        # Append the product to the appropriate category list\n",
    "        category_dict[category].append(product)\n",
    "    \n",
    "    return category_dict\n",
    "\n",
    "# Test the function with the input list of products\n",
    "products = [(\"Shirt\", \"Clothing\"), (\"Jeans\", \"Clothing\"), (\"Apple\", \"Fruits\"), (\"Banana\", \"Fruits\")]\n",
    "print(group_products_by_category(products))\n"
   ]
  },
  {
   "cell_type": "markdown",
   "metadata": {},
   "source": [
    "Q59. Track Customer Purchases\n",
    "You are analyzing customer purchase data. Given a list of customer names and the items they purchased, you need to generate a report that shows which items were bought by each customer.\n",
    "\n",
    "Input:\n",
    "customers = [\"Alice\", \"Bob\", \"Alice\", \"Charlie\"]\n",
    "items = [\"Shirt\", \"Shoes\", \"Pants\", \"Hat\"]\n",
    "\n",
    "Expected Output:\n",
    "{'Alice': ['Shirt', 'Pants'], 'Bob': ['Shoes'], 'Charlie': ['Hat']}"
   ]
  },
  {
   "cell_type": "code",
   "execution_count": 67,
   "metadata": {},
   "outputs": [
    {
     "name": "stdout",
     "output_type": "stream",
     "text": [
      "{'Alice': ['Shirt', 'Pants'], 'Bob': ['Shoes'], 'Charlie': ['Hat']}\n"
     ]
    }
   ],
   "source": [
    "def track_customer_purchases(customers, items):\n",
    "    # Initialize an empty dictionary to track purchases\n",
    "    purchase_report = {}\n",
    "    \n",
    "    # Iterate over both the customers and items simultaneously\n",
    "    for customer, item in zip(customers, items):\n",
    "        # If the customer is already in the dictionary, append the item\n",
    "        if customer in purchase_report:\n",
    "            purchase_report[customer].append(item)\n",
    "        else:\n",
    "            # Otherwise, create a new entry with the item in a list\n",
    "            purchase_report[customer] = [item]\n",
    "    \n",
    "    return purchase_report\n",
    "\n",
    "# Test the function with the input lists\n",
    "customers = [\"Alice\", \"Bob\", \"Alice\", \"Charlie\"]\n",
    "items = [\"Shirt\", \"Shoes\", \"Pants\", \"Hat\"]\n",
    "print(track_customer_purchases(customers, items))\n"
   ]
  },
  {
   "cell_type": "markdown",
   "metadata": {},
   "source": [
    "Q60. Combine Students from Multiple Courses\n",
    "You are a teacher managing multiple courses, and you need to find the total list of students enrolled across different courses. Each course has its own list of students. Use set union to combine all the student lists.\n",
    "\n",
    "Input:\n",
    "course1 = {\"John\", \"Alice\", \"Bob\"}\n",
    "course2 = {\"Alice\", \"Charlie\", \"David\"}\n",
    "course3 = {\"Bob\", \"Charlie\", \"Eve\"}\n",
    "\n",
    "Expected Output:\n",
    "{'John', 'Alice', 'Bob', 'Charlie', 'David', 'Eve'}"
   ]
  },
  {
   "cell_type": "code",
   "execution_count": 68,
   "metadata": {},
   "outputs": [
    {
     "name": "stdout",
     "output_type": "stream",
     "text": [
      "{'John', 'Alice', 'Charlie', 'Eve', 'Bob', 'David'}\n"
     ]
    }
   ],
   "source": [
    "def combine_students(*courses):\n",
    "    # Use set union to combine all courses' student lists\n",
    "    all_students = set()\n",
    "    for course in courses:\n",
    "        all_students = all_students.union(course)\n",
    "    \n",
    "    return all_students\n",
    "\n",
    "# Test the function with the input courses\n",
    "course1 = {\"John\", \"Alice\", \"Bob\"}\n",
    "course2 = {\"Alice\", \"Charlie\", \"David\"}\n",
    "course3 = {\"Bob\", \"Charlie\", \"Eve\"}\n",
    "\n",
    "print(combine_students(course1, course2, course3))\n"
   ]
  },
  {
   "cell_type": "markdown",
   "metadata": {},
   "source": [
    "Q61. Find Common Students Enrolled in All Courses\n",
    "You want to find the students who are enrolled in all the courses. Use set intersection to find the common students across multiple sets.\n",
    "\n",
    "Input:\n",
    "course1 = {\"John\", \"Alice\", \"Bob\"}\n",
    "course2 = {\"Alice\", \"Charlie\", \"David\"}\n",
    "course3 = {\"Bob\", \"Alice\", \"Eve\"}\n",
    "\n",
    "Expected Output:\n",
    "{'Alice'}"
   ]
  },
  {
   "cell_type": "code",
   "execution_count": 69,
   "metadata": {},
   "outputs": [
    {
     "name": "stdout",
     "output_type": "stream",
     "text": [
      "{'Alice'}\n"
     ]
    }
   ],
   "source": [
    "def find_common_students(*courses):\n",
    "    # Use set intersection to find common students in all courses\n",
    "    common_students = set(courses[0])  # Start with the first course\n",
    "    for course in courses[1:]:\n",
    "        common_students = common_students.intersection(course)  # Find common students across all sets\n",
    "    \n",
    "    return common_students\n",
    "\n",
    "# Test the function with the input courses\n",
    "course1 = {\"John\", \"Alice\", \"Bob\"}\n",
    "course2 = {\"Alice\", \"Charlie\", \"David\"}\n",
    "course3 = {\"Bob\", \"Alice\", \"Eve\"}\n",
    "\n",
    "print(find_common_students(course1, course2, course3))\n"
   ]
  },
  {
   "cell_type": "markdown",
   "metadata": {},
   "source": [
    "Q62. Students Who Are Not in Both Courses\n",
    "You need to identify students who are in one course but not in another. Use set difference to find students who are enrolled in course1 but not in course2.\n",
    "\n",
    "Input:\n",
    "course1 = {\"John\", \"Alice\", \"Bob\"}\n",
    "course2 = {\"Alice\", \"Charlie\", \"David\"}\n",
    "\n",
    "Expected Output:\n",
    "{'John', 'Bob'}"
   ]
  },
  {
   "cell_type": "code",
   "execution_count": 70,
   "metadata": {},
   "outputs": [
    {
     "name": "stdout",
     "output_type": "stream",
     "text": [
      "{'John', 'Bob'}\n"
     ]
    }
   ],
   "source": [
    "def students_not_in_both_courses(course1, course2):\n",
    "    # Use set difference to find students in course1 but not in course2\n",
    "    return course1.difference(course2)\n",
    "\n",
    "# Test the function with the input courses\n",
    "course1 = {\"John\", \"Alice\", \"Bob\"}\n",
    "course2 = {\"Alice\", \"Charlie\", \"David\"}\n",
    "\n",
    "print(students_not_in_both_courses(course1, course2))\n"
   ]
  },
  {
   "cell_type": "markdown",
   "metadata": {},
   "source": [
    "Q63: \n",
    "You want to find students who are enrolled in only one of two courses, but not both. Use set symmetric difference.\n",
    "\n",
    "Input:\n",
    "course1 = {\"John\", \"Alice\", \"Bob\"}\n",
    "course2 = {\"Alice\", \"Charlie\", \"David\"}\n",
    "\n",
    "Expected Output:\n",
    "{'John', 'Bob', 'Charlie', 'David'}"
   ]
  },
  {
   "cell_type": "code",
   "execution_count": 71,
   "metadata": {},
   "outputs": [
    {
     "name": "stdout",
     "output_type": "stream",
     "text": [
      "{'Charlie', 'John', 'Bob', 'David'}\n"
     ]
    }
   ],
   "source": [
    "course1 = {\"John\", \"Alice\", \"Bob\"}\n",
    "course2 = {\"Alice\", \"Charlie\", \"David\"}\n",
    "\n",
    "# Using the ^ operator for symmetric difference\n",
    "unique_students = course1 ^ course2\n",
    "print(unique_students)\n"
   ]
  },
  {
   "cell_type": "markdown",
   "metadata": {},
   "source": [
    "Q64: Adding New Items to a List\n",
    "You need to add new items to an existing list without duplication. Use list addition and set to ensure uniqueness.\n",
    "\n",
    "Input:\n",
    "items = [\"apple\", \"banana\", \"cherry\"]\n",
    "new_items = [\"banana\", \"orange\", \"grape\"]\n",
    "\n",
    "Expected Output:\n",
    "['apple', 'banana', 'cherry', 'orange', 'grape']"
   ]
  },
  {
   "cell_type": "code",
   "execution_count": 72,
   "metadata": {},
   "outputs": [
    {
     "name": "stdout",
     "output_type": "stream",
     "text": [
      "['banana', 'orange', 'apple', 'cherry', 'grape']\n"
     ]
    }
   ],
   "source": [
    "def add_unique_items(items, new_items):\n",
    "    # Convert both lists to sets to remove duplicates and then combine them\n",
    "    unique_items = list(set(items) | set(new_items))\n",
    "    return unique_items\n",
    "\n",
    "# Test the function with the input lists\n",
    "items = [\"apple\", \"banana\", \"cherry\"]\n",
    "new_items = [\"banana\", \"orange\", \"grape\"]\n",
    "\n",
    "print(add_unique_items(items, new_items))\n"
   ]
  },
  {
   "cell_type": "markdown",
   "metadata": {},
   "source": [
    "Q65. What is difference between deep copy and shallow copy\n",
    "Ans:Shallow Copy: Shallow repetition is quicker. However, it’s “lazy” it handles pointers and references. Rather than creating a contemporary copy of the particular knowledge the pointer points to, it simply copies over the pointer price. So, each of the first and therefore the copy can have pointers that reference constant underlying knowledge\n",
    "Deep copy:\n",
    "Deep Copy: Deep repetition truly clones the underlying data. It is not shared between the first and therefore the copy.\n"
   ]
  },
  {
   "cell_type": "markdown",
   "metadata": {},
   "source": [
    "Q66: Counting Occurrences of Elements in a List\n",
    "You need to count how many times each element occurs in a list. Use collections.Counter.\n",
    "\n",
    "Input:\n",
    "elements = [\"apple\", \"banana\", \"apple\", \"orange\", \"banana\", \"apple\"]\n",
    "\n",
    "Expected Output:\n",
    "Counter({'apple': 3, 'banana': 2, 'orange': 1})"
   ]
  },
  {
   "cell_type": "code",
   "execution_count": 75,
   "metadata": {},
   "outputs": [
    {
     "name": "stdout",
     "output_type": "stream",
     "text": [
      "Counter({'apple': 3, 'banana': 2, 'orange': 1})\n"
     ]
    }
   ],
   "source": [
    "from collections import Counter\n",
    "\n",
    "def count_occurrences(elements):\n",
    "    return Counter(elements)\n",
    "\n",
    "# Test the function with the input list\n",
    "elements = [\"apple\", \"banana\", \"apple\", \"orange\", \"banana\", \"apple\"]\n",
    "\n",
    "print(count_occurrences(elements))\n"
   ]
  },
  {
   "cell_type": "markdown",
   "metadata": {},
   "source": [
    "Q67: Sum of Sequence 3 + 33 + 333 + ...\n",
    "Problem Statement:\n",
    "\n",
    "You need to calculate the sum of a sequence like 3 + 33 + 333 + 3333 + ... up to a specified number of terms. The sequence starts with 3, and each subsequent term is formed by appending an additional 3 to the previous number.\n",
    "\n",
    "Input:\n",
    "\n",
    "The input consists of an integer terms, which denotes the number of terms in the sequence to sum.\n",
    "\n",
    "terms = 5\n",
    "\n",
    "Expected Output:\n",
    "\n",
    "The output is the sum of the first terms terms in the sequence.\n",
    "37035"
   ]
  },
  {
   "cell_type": "code",
   "execution_count": 77,
   "metadata": {},
   "outputs": [
    {
     "name": "stdout",
     "output_type": "stream",
     "text": [
      "37035\n"
     ]
    }
   ],
   "source": [
    "def sum_sequence(terms):\n",
    "    total_sum = 0\n",
    "    current_term = 3\n",
    "    for _ in range(terms):\n",
    "        total_sum += current_term\n",
    "        current_term = current_term * 10 + 3  # Generate the next term in the sequence\n",
    "    return total_sum\n",
    "\n",
    "# Test the function with the input terms\n",
    "terms = 5\n",
    "\n",
    "print(sum_sequence(terms))\n"
   ]
  },
  {
   "cell_type": "markdown",
   "metadata": {},
   "source": [
    "Q68.  Calculate the Taylor Series for the Exponential Function\n",
    "Context:\n",
    "The Taylor series is a mathematical tool used to approximate functions as an infinite sum of terms calculated from the function’s derivatives at a single point.\n",
    "Input:\n",
    "x = 2\n",
    "n_terms = 10\n",
    "\n",
    "Expected Output:\n",
    "7.3890560989306495  # Approximate e^2 using 10 terms"
   ]
  },
  {
   "cell_type": "code",
   "execution_count": 78,
   "metadata": {},
   "outputs": [
    {
     "name": "stdout",
     "output_type": "stream",
     "text": [
      "7.3887125220458545\n"
     ]
    }
   ],
   "source": [
    "import math\n",
    "\n",
    "def taylor_series_exp(x, n_terms):\n",
    "    result = 0\n",
    "    for i in range(n_terms):\n",
    "        result += (x ** i) / math.factorial(i)  # Add the ith term of the series\n",
    "    return result\n",
    "\n",
    "# Test the function with x = 2 and n_terms = 10\n",
    "x = 2  # Approximate e^2\n",
    "n_terms = 10  # Number of terms to use in the approximation\n",
    "\n",
    "approximation = taylor_series_exp(x, n_terms)\n",
    "print(approximation)\n"
   ]
  },
  {
   "cell_type": "markdown",
   "metadata": {},
   "source": [
    "Q69: Scenario: Optimizing Data Pipeline with Batch Processing\n",
    "Problem Statement:\n",
    "\n",
    "In a data processing pipeline, you are tasked with processing large datasets in batches. The system should be able to handle a batch of data, process it, and then move to the next batch. The goal is to avoid processing the entire dataset at once, which would cause memory issues, and instead process data in chunks for efficiency.\n",
    "\n",
    "You need to implement a function that takes a list of data and processes it in batches. Each batch will be processed independently.\n",
    "\n",
    "Input:\n",
    "\n",
    "The input consists of a list data representing the dataset, and an integer batch_size representing the size of each batch.\n",
    "\n",
    "data = [i for i in range(1000)]  # Sample data\n",
    "batch_size = 100\n",
    "Expected Output:\n",
    "\n",
    "The output will be the data processed in batches.\n",
    "\n",
    "Batch 1: [0, 1, 2, ..., 99]\n",
    "Batch 2: [100, 101, 102, ..., 199]"
   ]
  },
  {
   "cell_type": "code",
   "execution_count": 79,
   "metadata": {},
   "outputs": [
    {
     "name": "stdout",
     "output_type": "stream",
     "text": [
      "Processing Batch: [0, 1, 2, 3, 4, 5, 6, 7, 8, 9, 10, 11, 12, 13, 14, 15, 16, 17, 18, 19, 20, 21, 22, 23, 24, 25, 26, 27, 28, 29, 30, 31, 32, 33, 34, 35, 36, 37, 38, 39, 40, 41, 42, 43, 44, 45, 46, 47, 48, 49, 50, 51, 52, 53, 54, 55, 56, 57, 58, 59, 60, 61, 62, 63, 64, 65, 66, 67, 68, 69, 70, 71, 72, 73, 74, 75, 76, 77, 78, 79, 80, 81, 82, 83, 84, 85, 86, 87, 88, 89, 90, 91, 92, 93, 94, 95, 96, 97, 98, 99]\n",
      "Processing Batch: [100, 101, 102, 103, 104, 105, 106, 107, 108, 109, 110, 111, 112, 113, 114, 115, 116, 117, 118, 119, 120, 121, 122, 123, 124, 125, 126, 127, 128, 129, 130, 131, 132, 133, 134, 135, 136, 137, 138, 139, 140, 141, 142, 143, 144, 145, 146, 147, 148, 149, 150, 151, 152, 153, 154, 155, 156, 157, 158, 159, 160, 161, 162, 163, 164, 165, 166, 167, 168, 169, 170, 171, 172, 173, 174, 175, 176, 177, 178, 179, 180, 181, 182, 183, 184, 185, 186, 187, 188, 189, 190, 191, 192, 193, 194, 195, 196, 197, 198, 199]\n",
      "Processing Batch: [200, 201, 202, 203, 204, 205, 206, 207, 208, 209, 210, 211, 212, 213, 214, 215, 216, 217, 218, 219, 220, 221, 222, 223, 224, 225, 226, 227, 228, 229, 230, 231, 232, 233, 234, 235, 236, 237, 238, 239, 240, 241, 242, 243, 244, 245, 246, 247, 248, 249, 250, 251, 252, 253, 254, 255, 256, 257, 258, 259, 260, 261, 262, 263, 264, 265, 266, 267, 268, 269, 270, 271, 272, 273, 274, 275, 276, 277, 278, 279, 280, 281, 282, 283, 284, 285, 286, 287, 288, 289, 290, 291, 292, 293, 294, 295, 296, 297, 298, 299]\n",
      "Processing Batch: [300, 301, 302, 303, 304, 305, 306, 307, 308, 309, 310, 311, 312, 313, 314, 315, 316, 317, 318, 319, 320, 321, 322, 323, 324, 325, 326, 327, 328, 329, 330, 331, 332, 333, 334, 335, 336, 337, 338, 339, 340, 341, 342, 343, 344, 345, 346, 347, 348, 349, 350, 351, 352, 353, 354, 355, 356, 357, 358, 359, 360, 361, 362, 363, 364, 365, 366, 367, 368, 369, 370, 371, 372, 373, 374, 375, 376, 377, 378, 379, 380, 381, 382, 383, 384, 385, 386, 387, 388, 389, 390, 391, 392, 393, 394, 395, 396, 397, 398, 399]\n",
      "Processing Batch: [400, 401, 402, 403, 404, 405, 406, 407, 408, 409, 410, 411, 412, 413, 414, 415, 416, 417, 418, 419, 420, 421, 422, 423, 424, 425, 426, 427, 428, 429, 430, 431, 432, 433, 434, 435, 436, 437, 438, 439, 440, 441, 442, 443, 444, 445, 446, 447, 448, 449, 450, 451, 452, 453, 454, 455, 456, 457, 458, 459, 460, 461, 462, 463, 464, 465, 466, 467, 468, 469, 470, 471, 472, 473, 474, 475, 476, 477, 478, 479, 480, 481, 482, 483, 484, 485, 486, 487, 488, 489, 490, 491, 492, 493, 494, 495, 496, 497, 498, 499]\n",
      "Processing Batch: [500, 501, 502, 503, 504, 505, 506, 507, 508, 509, 510, 511, 512, 513, 514, 515, 516, 517, 518, 519, 520, 521, 522, 523, 524, 525, 526, 527, 528, 529, 530, 531, 532, 533, 534, 535, 536, 537, 538, 539, 540, 541, 542, 543, 544, 545, 546, 547, 548, 549, 550, 551, 552, 553, 554, 555, 556, 557, 558, 559, 560, 561, 562, 563, 564, 565, 566, 567, 568, 569, 570, 571, 572, 573, 574, 575, 576, 577, 578, 579, 580, 581, 582, 583, 584, 585, 586, 587, 588, 589, 590, 591, 592, 593, 594, 595, 596, 597, 598, 599]\n",
      "Processing Batch: [600, 601, 602, 603, 604, 605, 606, 607, 608, 609, 610, 611, 612, 613, 614, 615, 616, 617, 618, 619, 620, 621, 622, 623, 624, 625, 626, 627, 628, 629, 630, 631, 632, 633, 634, 635, 636, 637, 638, 639, 640, 641, 642, 643, 644, 645, 646, 647, 648, 649, 650, 651, 652, 653, 654, 655, 656, 657, 658, 659, 660, 661, 662, 663, 664, 665, 666, 667, 668, 669, 670, 671, 672, 673, 674, 675, 676, 677, 678, 679, 680, 681, 682, 683, 684, 685, 686, 687, 688, 689, 690, 691, 692, 693, 694, 695, 696, 697, 698, 699]\n",
      "Processing Batch: [700, 701, 702, 703, 704, 705, 706, 707, 708, 709, 710, 711, 712, 713, 714, 715, 716, 717, 718, 719, 720, 721, 722, 723, 724, 725, 726, 727, 728, 729, 730, 731, 732, 733, 734, 735, 736, 737, 738, 739, 740, 741, 742, 743, 744, 745, 746, 747, 748, 749, 750, 751, 752, 753, 754, 755, 756, 757, 758, 759, 760, 761, 762, 763, 764, 765, 766, 767, 768, 769, 770, 771, 772, 773, 774, 775, 776, 777, 778, 779, 780, 781, 782, 783, 784, 785, 786, 787, 788, 789, 790, 791, 792, 793, 794, 795, 796, 797, 798, 799]\n",
      "Processing Batch: [800, 801, 802, 803, 804, 805, 806, 807, 808, 809, 810, 811, 812, 813, 814, 815, 816, 817, 818, 819, 820, 821, 822, 823, 824, 825, 826, 827, 828, 829, 830, 831, 832, 833, 834, 835, 836, 837, 838, 839, 840, 841, 842, 843, 844, 845, 846, 847, 848, 849, 850, 851, 852, 853, 854, 855, 856, 857, 858, 859, 860, 861, 862, 863, 864, 865, 866, 867, 868, 869, 870, 871, 872, 873, 874, 875, 876, 877, 878, 879, 880, 881, 882, 883, 884, 885, 886, 887, 888, 889, 890, 891, 892, 893, 894, 895, 896, 897, 898, 899]\n",
      "Processing Batch: [900, 901, 902, 903, 904, 905, 906, 907, 908, 909, 910, 911, 912, 913, 914, 915, 916, 917, 918, 919, 920, 921, 922, 923, 924, 925, 926, 927, 928, 929, 930, 931, 932, 933, 934, 935, 936, 937, 938, 939, 940, 941, 942, 943, 944, 945, 946, 947, 948, 949, 950, 951, 952, 953, 954, 955, 956, 957, 958, 959, 960, 961, 962, 963, 964, 965, 966, 967, 968, 969, 970, 971, 972, 973, 974, 975, 976, 977, 978, 979, 980, 981, 982, 983, 984, 985, 986, 987, 988, 989, 990, 991, 992, 993, 994, 995, 996, 997, 998, 999]\n"
     ]
    }
   ],
   "source": [
    "def process_in_batches(data, batch_size):\n",
    "    # Iterate through the data in steps of batch_size\n",
    "    for i in range(0, len(data), batch_size):\n",
    "        # Get the current batch by slicing the data\n",
    "        batch = data[i:i + batch_size]\n",
    "        # Process the batch (For now, just printing the batch)\n",
    "        print(f\"Processing Batch: {batch}\")\n",
    "\n",
    "# Sample data and batch_size\n",
    "data = [i for i in range(1000)]  # List of numbers from 0 to 999\n",
    "batch_size = 100\n",
    "\n",
    "# Process data in batches\n",
    "process_in_batches(data, batch_size)\n"
   ]
  },
  {
   "cell_type": "code",
   "execution_count": null,
   "metadata": {},
   "outputs": [],
   "source": []
  }
 ],
 "metadata": {
  "kernelspec": {
   "display_name": "Python 3",
   "language": "python",
   "name": "python3"
  },
  "language_info": {
   "codemirror_mode": {
    "name": "ipython",
    "version": 3
   },
   "file_extension": ".py",
   "mimetype": "text/x-python",
   "name": "python",
   "nbconvert_exporter": "python",
   "pygments_lexer": "ipython3",
   "version": "3.12.6"
  }
 },
 "nbformat": 4,
 "nbformat_minor": 2
}
